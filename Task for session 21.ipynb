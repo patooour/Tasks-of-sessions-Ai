{
 "cells": [
  {
   "cell_type": "markdown",
   "id": "64d74810",
   "metadata": {},
   "source": [
    "**Task : Read video with sound with open cv**\n",
    "\n"
   ]
  },
  {
   "cell_type": "code",
   "execution_count": null,
   "id": "5aa4c2be",
   "metadata": {},
   "outputs": [],
   "source": [
    "import pyglet\n",
    "vid_path='qqq.mp4' # Name of the video\n",
    "window=pyglet.window.Window()\n",
    "player = pyglet.media.Player()\n",
    "source = pyglet.media.StreamingSource()\n",
    "MediaLoad = pyglet.media.load(vid_path)\n",
    "\n",
    "player.queue(MediaLoad)\n",
    "player.play()\n",
    "\n",
    "@window.event\n",
    "def on_draw():\n",
    "    if player.source and player.source.video_format:\n",
    "        player.get_texture().blit(50,50)\n",
    "\n",
    "\n",
    "pyglet.app.run()"
   ]
  },
  {
   "cell_type": "code",
   "execution_count": null,
   "id": "086a08bd",
   "metadata": {},
   "outputs": [],
   "source": [
    "import cv2\n",
    "import numpy as np\n",
    "#ffpyplayer for playing audio\n",
    "from ffpyplayer.player import MediaPlayer\n",
    "video_path=\"qqq.mp4\"\n",
    "def PlayVideo(video_path):\n",
    "    video=cv2.VideoCapture(video_path)\n",
    "    player = MediaPlayer(video_path)\n",
    "    while True:\n",
    "        grabbed, frame=video.read()\n",
    "        audio_frame, val = player.get_frame()\n",
    "        if not grabbed:\n",
    "            print(\"End of video\")\n",
    "            break\n",
    "        if cv2.waitKey(28) & 0xFF == ord(\"q\"):\n",
    "            break\n",
    "        cv2.imshow(\"Video\", frame)\n",
    "        if val != 'eof' and audio_frame is not None:\n",
    "            #audio\n",
    "            img, t = audio_frame\n",
    "    video.release()\n",
    "    cv2.destroyAllWindows()\n",
    "PlayVideo(video_path)"
   ]
  }
 ],
 "metadata": {
  "kernelspec": {
   "display_name": "Python 3",
   "language": "python",
   "name": "python3"
  },
  "language_info": {
   "codemirror_mode": {
    "name": "ipython",
    "version": 3
   },
   "file_extension": ".py",
   "mimetype": "text/x-python",
   "name": "python",
   "nbconvert_exporter": "python",
   "pygments_lexer": "ipython3",
   "version": "3.8.8"
  },
  "varInspector": {
   "cols": {
    "lenName": 16,
    "lenType": 16,
    "lenVar": 40
   },
   "kernels_config": {
    "python": {
     "delete_cmd_postfix": "",
     "delete_cmd_prefix": "del ",
     "library": "var_list.py",
     "varRefreshCmd": "print(var_dic_list())"
    },
    "r": {
     "delete_cmd_postfix": ") ",
     "delete_cmd_prefix": "rm(",
     "library": "var_list.r",
     "varRefreshCmd": "cat(var_dic_list()) "
    }
   },
   "types_to_exclude": [
    "module",
    "function",
    "builtin_function_or_method",
    "instance",
    "_Feature"
   ],
   "window_display": false
  }
 },
 "nbformat": 4,
 "nbformat_minor": 5
}
