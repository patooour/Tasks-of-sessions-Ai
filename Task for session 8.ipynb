{
 "cells": [
  {
   "cell_type": "markdown",
   "id": "0ac5ea26",
   "metadata": {},
   "source": [
    "# **Tasks for session 8**"
   ]
  },
  {
   "cell_type": "markdown",
   "id": "42abd216",
   "metadata": {},
   "source": [
    "## Task 1\n",
    "### Requests"
   ]
  },
  {
   "cell_type": "code",
   "execution_count": 14,
   "id": "8b4eee2c",
   "metadata": {
    "ExecuteTime": {
     "end_time": "2021-08-16T15:03:47.495947Z",
     "start_time": "2021-08-16T15:03:47.475963Z"
    }
   },
   "outputs": [],
   "source": [
    "import requests\n",
    "from bs4 import BeautifulSoup\n",
    "import csv"
   ]
  },
  {
   "cell_type": "code",
   "execution_count": 15,
   "id": "60ca9cf0",
   "metadata": {
    "ExecuteTime": {
     "end_time": "2021-08-16T15:03:52.868569Z",
     "start_time": "2021-08-16T15:03:50.309750Z"
    }
   },
   "outputs": [],
   "source": [
    "obj1 = requests.get('https://coreyms.com/').text"
   ]
  },
  {
   "cell_type": "code",
   "execution_count": 16,
   "id": "da3c3705",
   "metadata": {
    "ExecuteTime": {
     "end_time": "2021-08-16T15:03:53.242422Z",
     "start_time": "2021-08-16T15:03:52.877468Z"
    }
   },
   "outputs": [],
   "source": [
    "soup = BeautifulSoup( obj1 , 'lxml')\n"
   ]
  },
  {
   "cell_type": "code",
   "execution_count": 17,
   "id": "ab1997a0",
   "metadata": {
    "ExecuteTime": {
     "end_time": "2021-08-16T15:03:54.078352Z",
     "start_time": "2021-08-16T15:03:54.041375Z"
    }
   },
   "outputs": [
    {
     "name": "stdout",
     "output_type": "stream",
     "text": [
      "<article class=\"post-1665 post type-post status-publish format-standard has-post-thumbnail category-development category-python tag-data-analysis tag-data-science tag-stack-overflow entry\" itemscope=\"\" itemtype=\"https://schema.org/CreativeWork\"><header class=\"entry-header\"><h2 class=\"entry-title\" itemprop=\"headline\"><a class=\"entry-title-link\" href=\"https://coreyms.com/development/python/python-data-science-tutorial-analyzing-the-2019-stack-overflow-developer-survey\" rel=\"bookmark\">Python Data Science Tutorial: Analyzing the 2019 Stack Overflow Developer Survey</a></h2>\n",
      "<p class=\"entry-meta\"><time class=\"entry-time\" datetime=\"2019-10-17T12:35:51-04:00\" itemprop=\"datePublished\">October 17, 2019</time> by <span class=\"entry-author\" itemprop=\"author\" itemscope=\"\" itemtype=\"https://schema.org/Person\"><a class=\"entry-author-link\" href=\"https://coreyms.com/author/coreymschafer\" itemprop=\"url\" rel=\"author\"><span class=\"entry-author-name\" itemprop=\"name\">Corey Schafer</span></a></span> <span class=\"entry-comments-link\"><a href=\"https://coreyms.com/development/python/python-data-science-tutorial-analyzing-the-2019-stack-overflow-developer-survey#respond\"><span class=\"dsq-postid\" data-dsqidentifier=\"1665 http://coreyms.com/?p=1665\">Leave a Comment</span></a></span> </p></header><div class=\"entry-content\" itemprop=\"text\">\n",
      "<p>In this Python Programming video, we will be learning how to download and analyze real-world data from the 2019 Stack Overflow Developer Survey. This is terrific practice for anyone getting into the data science field. We will learn different ways to analyze this data and also some best practices. Let’s get started…</p>\n",
      "<figure class=\"wp-block-embed-youtube wp-block-embed is-type-video is-provider-youtube wp-embed-aspect-16-9 wp-has-aspect-ratio\"><div class=\"wp-block-embed__wrapper\">\n",
      "<span class=\"embed-youtube\" style=\"text-align:center; display: block;\"><iframe allowfullscreen=\"true\" class=\"youtube-player\" height=\"360\" sandbox=\"allow-scripts allow-same-origin allow-popups allow-presentation\" src=\"https://www.youtube.com/embed/_P7X8tMplsw?version=3&amp;rel=1&amp;showsearch=0&amp;showinfo=1&amp;iv_load_policy=1&amp;fs=1&amp;hl=en-US&amp;autohide=2&amp;wmode=transparent\" style=\"border:0;\" width=\"640\"></iframe></span>\n",
      "</div></figure>\n",
      "</div><footer class=\"entry-footer\"><p class=\"entry-meta\"><span class=\"entry-categories\">Filed Under: <a href=\"https://coreyms.com/category/development\" rel=\"category tag\">Development</a>, <a href=\"https://coreyms.com/category/development/python\" rel=\"category tag\">Python</a></span> <span class=\"entry-tags\">Tagged With: <a href=\"https://coreyms.com/tag/data-analysis\" rel=\"tag\">data analysis</a>, <a href=\"https://coreyms.com/tag/data-science\" rel=\"tag\">Data Science</a>, <a href=\"https://coreyms.com/tag/stack-overflow\" rel=\"tag\">stack overflow</a></span></p></footer></article>\n"
     ]
    }
   ],
   "source": [
    "articles = soup.find_all('article')\n",
    "print(article)"
   ]
  },
  {
   "cell_type": "code",
   "execution_count": null,
   "id": "e37b86c0",
   "metadata": {},
   "outputs": [],
   "source": [
    "csvFile=open('corensData' , 'w', encoding='utf-8')\n",
    "writer = csv.writer(csvFile)\n",
    "writer.writerow(['headline','summary','link'])\n",
    "writer.writerow([headline,summary,link])"
   ]
  },
  {
   "cell_type": "code",
   "execution_count": null,
   "id": "7d159f83",
   "metadata": {},
   "outputs": [],
   "source": [
    "youtubeLink = article.find('iframe',class_=\"youtube-player\")['src']\n",
    "splitlink = youtubeLink.split('/')\n",
    "c = splitlink[4].split('?')\n",
    "id_link = c[0]\n",
    "link = f'https://www.youtube.com/watch?v={id_link}'\n",
    "link"
   ]
  },
  {
   "cell_type": "code",
   "execution_count": 20,
   "id": "38833eca",
   "metadata": {
    "ExecuteTime": {
     "end_time": "2021-08-16T15:05:37.125530Z",
     "start_time": "2021-08-16T15:05:37.033592Z"
    }
   },
   "outputs": [
    {
     "name": "stdout",
     "output_type": "stream",
     "text": [
      "Python Tutorial: Zip Files – Creating and Extracting Zip Archives\n",
      "In this video, we will be learning how to create and extract zip archives. We will start by using the zipfile module, and then we will see how to do this using the shutil module. We will learn how to do this with single files and directories, as well as learning how to use gzip as well. Let’s get started…\n",
      "https://www.youtube.com/watch?v=z0gguhEmWiY\n",
      "Python Data Science Tutorial: Analyzing the 2019 Stack Overflow Developer Survey\n",
      "In this Python Programming video, we will be learning how to download and analyze real-world data from the 2019 Stack Overflow Developer Survey. This is terrific practice for anyone getting into the data science field. We will learn different ways to analyze this data and also some best practices. Let’s get started…\n",
      "https://www.youtube.com/watch?v=_P7X8tMplsw\n",
      "Python Multiprocessing Tutorial: Run Code in Parallel Using the Multiprocessing Module\n",
      "In this Python Programming video, we will be learning how to run code in parallel using the multiprocessing module. We will also look at how to process multiple high-resolution images at the same time using a ProcessPoolExecutor from the concurrent.futures module. Let’s get started…\n",
      "https://www.youtube.com/watch?v=fKl2JW_qrso\n",
      "Python Threading Tutorial: Run Code Concurrently Using the Threading Module\n",
      "In this Python Programming video, we will be learning how to run threads concurrently using the threading module. We will also look at how to download multiple high-resolution images online using a ThreadPoolExecutor from the concurrent.futures module. Let’s get started…\n",
      "https://www.youtube.com/watch?v=IEEhzQoKtQU\n",
      "Update (2019-09-03)\n",
      "Hey everyone. I wanted to give you an update on my videos. I will be releasing videos on threading and multiprocessing within the next week. Thanks so much for your patience. I currently have a temporary recording studio setup at my Airbnb that will allow me to record and edit the threading/multiprocessing videos. I am going to be moving into my new house in 10 days and once I have my recording studio setup then you can expect much faster video releases. I really appreciate how patient everyone has been while I go through this move, especially those of you who are contributing monthly through YouTube \n",
      "There is no video\n",
      "Python Quick Tip: The Difference Between “==” and “is” (Equality vs Identity)\n",
      "In this Python Programming Tutorial, we will be learning the difference between using “==” and the “is” keyword when doing comparisons. The difference between these is that “==” checks to see if values are equal, and the “is” keyword checks their identity, which means it’s going to check if the values are identical in terms of being the same object in memory. We’ll learn more in the video. Let’s get started…\n",
      "https://www.youtube.com/watch?v=mO_dS3rXDIs\n",
      "Python Tutorial: Calling External Commands Using the Subprocess Module\n",
      "In this Python Programming Tutorial, we will be learning how to run external commands using the subprocess module from the standard library. We will learn how to run commands, capture the output, handle errors, and also how to pipe output into other commands. Let’s get started…\n",
      "https://www.youtube.com/watch?v=2Fp1N6dof0Y\n",
      "Visual Studio Code (Windows) – Setting up a Python Development Environment and Complete Overview\n",
      "In this Python Programming Tutorial, we will be learning how to set up a Python development environment in VSCode on Windows. VSCode is a very nice free editor for writing Python applications and many developers are now switching over to this editor. In this video, we will learn how to install VSCode, get the Python extension installed, how to change Python interpreters, create virtual environments, format/lint our code, how to use Git within VSCode, how to debug our programs, how unit testing works, and more. We have a lot to cover, so let’s go ahead and get started…\n",
      "https://www.youtube.com/watch?v=-nh9rCzPJ20\n",
      "Visual Studio Code (Mac) – Setting up a Python Development Environment and Complete Overview\n",
      "In this Python Programming Tutorial, we will be learning how to set up a Python development environment in VSCode on MacOS. VSCode is a very nice free editor for writing Python applications and many developers are now switching over to this editor. In this video, we will learn how to install VSCode, get the Python extension installed, how to change Python interpreters, create virtual environments, format/lint our code, how to use Git within VSCode, how to debug our programs, how unit testing works, and more. We have a lot to cover, so let’s go ahead and get started…\n",
      "https://www.youtube.com/watch?v=06I63_p-2A4\n",
      "Clarifying the Issues with Mutable Default Arguments\n",
      "In this Python Programming Tutorial, we will be clarifying the issues with mutable default arguments. We discussed this in my last video titled “5 Common Python Mistakes and How to Fix Them”, but I received many comments from people who were still confused. So we will be doing a deeper dive to explain exactly what is going on here. Let’s get started…\n",
      "https://www.youtube.com/watch?v=_JGmemuINww\n"
     ]
    }
   ],
   "source": [
    "articles = soup.find_all('article')\n",
    "\n",
    "csvFile=open('corensData.csv' , 'w', encoding='utf-8')\n",
    "writer = csv.writer(csvFile)\n",
    "writer.writerow(['headline','summary','link'])\n",
    "\n",
    "for article in articles:\n",
    "    \n",
    "    headline = article.h2.a.text\n",
    "    print(headline)\n",
    "    \n",
    "    summary = article.find('div',class_=\"entry-content\").p.text\n",
    "    print(summary)\n",
    "    \n",
    "    try:\n",
    "        youtubeLink = article.find('iframe',class_=\"youtube-player\")['src']\n",
    "        splitlink = youtubeLink.split('/')\n",
    "        c = splitlink[4].split('?')\n",
    "        id_link = c[0]\n",
    "        link = f'https://www.youtube.com/watch?v={id_link}'\n",
    "        print(link)\n",
    "    except Exception:\n",
    "        print('There is no video')\n",
    "    \n",
    "    writer.writerow([headline,summary,link])\n",
    "\n",
    "csvFile.close()    "
   ]
  },
  {
   "cell_type": "markdown",
   "id": "7b6414d1",
   "metadata": {},
   "source": [
    "## Task 2\n",
    "### selenium"
   ]
  },
  {
   "cell_type": "code",
   "execution_count": 24,
   "id": "dedeb184",
   "metadata": {
    "ExecuteTime": {
     "end_time": "2021-08-16T15:15:15.958588Z",
     "start_time": "2021-08-16T15:15:15.946603Z"
    }
   },
   "outputs": [],
   "source": [
    "from selenium import webdriver"
   ]
  },
  {
   "cell_type": "code",
   "execution_count": 36,
   "id": "7a15984a",
   "metadata": {
    "ExecuteTime": {
     "end_time": "2021-08-16T15:34:50.457800Z",
     "start_time": "2021-08-16T15:34:39.403175Z"
    }
   },
   "outputs": [],
   "source": [
    "driver = webdriver.Chrome(executable_path=r'chromedriver.exe')"
   ]
  },
  {
   "cell_type": "code",
   "execution_count": 37,
   "id": "86a18380",
   "metadata": {
    "ExecuteTime": {
     "end_time": "2021-08-16T15:35:10.542790Z",
     "start_time": "2021-08-16T15:34:58.397829Z"
    }
   },
   "outputs": [],
   "source": [
    "driver.get('https://github.com/')\n",
    "lin = driver.find_element_by_link_text(\"Sign in\")\n",
    "driver.implicitly_wait(5)\n",
    "lin.click()\n",
    "driver.implicitly_wait(5)\n",
    "driver.back()\n",
    "driver.quit()"
   ]
  },
  {
   "cell_type": "code",
   "execution_count": 33,
   "id": "778565fa",
   "metadata": {
    "ExecuteTime": {
     "end_time": "2021-08-16T15:32:23.999413Z",
     "start_time": "2021-08-16T15:32:20.238953Z"
    }
   },
   "outputs": [],
   "source": []
  },
  {
   "cell_type": "code",
   "execution_count": 29,
   "id": "c4fec8c9",
   "metadata": {
    "ExecuteTime": {
     "end_time": "2021-08-16T15:16:10.906291Z",
     "start_time": "2021-08-16T15:16:02.044242Z"
    }
   },
   "outputs": [],
   "source": []
  },
  {
   "cell_type": "code",
   "execution_count": null,
   "id": "aa18378b",
   "metadata": {},
   "outputs": [],
   "source": []
  },
  {
   "cell_type": "code",
   "execution_count": null,
   "id": "020704f4",
   "metadata": {},
   "outputs": [],
   "source": []
  },
  {
   "cell_type": "code",
   "execution_count": null,
   "id": "9c05a8fc",
   "metadata": {},
   "outputs": [],
   "source": []
  }
 ],
 "metadata": {
  "kernelspec": {
   "display_name": "Python 3",
   "language": "python",
   "name": "python3"
  },
  "language_info": {
   "codemirror_mode": {
    "name": "ipython",
    "version": 3
   },
   "file_extension": ".py",
   "mimetype": "text/x-python",
   "name": "python",
   "nbconvert_exporter": "python",
   "pygments_lexer": "ipython3",
   "version": "3.8.8"
  }
 },
 "nbformat": 4,
 "nbformat_minor": 5
}
