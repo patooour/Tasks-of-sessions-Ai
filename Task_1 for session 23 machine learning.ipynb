{
 "cells": [
  {
   "cell_type": "markdown",
   "id": "d10dddf7",
   "metadata": {},
   "source": [
    "Task 2 : function take data and make linear Regression return model and accuracy and save model "
   ]
  },
  {
   "cell_type": "code",
   "execution_count": 50,
   "id": "88ccb0ed",
   "metadata": {
    "ExecuteTime": {
     "end_time": "2021-10-18T13:50:38.027339Z",
     "start_time": "2021-10-18T13:50:38.019347Z"
    }
   },
   "outputs": [],
   "source": [
    "def Model(data1 , data2 , Test_model=' ',fileName=''):\n",
    "        from sklearn.linear_model import LinearRegression\n",
    "        import joblib\n",
    "    \n",
    "        Test_model = LinearRegression()\n",
    "        Test_model.fit(data1,data2)\n",
    "        \n",
    "        joblib.dump(Test_model , fileName)\n",
    "        \n",
    "        print(Test_model.score(data1,data2))\n",
    "        return Test_model \n"
   ]
  },
  {
   "cell_type": "code",
   "execution_count": 51,
   "id": "75628568",
   "metadata": {
    "ExecuteTime": {
     "end_time": "2021-10-18T13:50:42.717229Z",
     "start_time": "2021-10-18T13:50:42.693596Z"
    }
   },
   "outputs": [
    {
     "data": {
      "text/html": [
       "<div>\n",
       "<style scoped>\n",
       "    .dataframe tbody tr th:only-of-type {\n",
       "        vertical-align: middle;\n",
       "    }\n",
       "\n",
       "    .dataframe tbody tr th {\n",
       "        vertical-align: top;\n",
       "    }\n",
       "\n",
       "    .dataframe thead th {\n",
       "        text-align: right;\n",
       "    }\n",
       "</style>\n",
       "<table border=\"1\" class=\"dataframe\">\n",
       "  <thead>\n",
       "    <tr style=\"text-align: right;\">\n",
       "      <th></th>\n",
       "      <th>area</th>\n",
       "      <th>price</th>\n",
       "    </tr>\n",
       "  </thead>\n",
       "  <tbody>\n",
       "    <tr>\n",
       "      <th>0</th>\n",
       "      <td>2600</td>\n",
       "      <td>550000</td>\n",
       "    </tr>\n",
       "    <tr>\n",
       "      <th>1</th>\n",
       "      <td>3000</td>\n",
       "      <td>565000</td>\n",
       "    </tr>\n",
       "    <tr>\n",
       "      <th>2</th>\n",
       "      <td>3200</td>\n",
       "      <td>610000</td>\n",
       "    </tr>\n",
       "    <tr>\n",
       "      <th>3</th>\n",
       "      <td>3600</td>\n",
       "      <td>680000</td>\n",
       "    </tr>\n",
       "    <tr>\n",
       "      <th>4</th>\n",
       "      <td>4000</td>\n",
       "      <td>725000</td>\n",
       "    </tr>\n",
       "  </tbody>\n",
       "</table>\n",
       "</div>"
      ],
      "text/plain": [
       "   area   price\n",
       "0  2600  550000\n",
       "1  3000  565000\n",
       "2  3200  610000\n",
       "3  3600  680000\n",
       "4  4000  725000"
      ]
     },
     "execution_count": 51,
     "metadata": {},
     "output_type": "execute_result"
    }
   ],
   "source": [
    "import pandas as pd\n",
    "df = pd.read_csv('E:/ai/project/ML/1_linear_reg/homeprices.csv')\n",
    "df"
   ]
  },
  {
   "cell_type": "code",
   "execution_count": 56,
   "id": "78c953bb",
   "metadata": {
    "ExecuteTime": {
     "end_time": "2021-10-18T13:54:45.358791Z",
     "start_time": "2021-10-18T13:54:45.325810Z"
    }
   },
   "outputs": [
    {
     "name": "stdout",
     "output_type": "stream",
     "text": [
      "0.9584301138199486\n"
     ]
    },
    {
     "data": {
      "text/plain": [
       "LinearRegression()"
      ]
     },
     "execution_count": 56,
     "metadata": {},
     "output_type": "execute_result"
    }
   ],
   "source": [
    "val = Model(df[['area']] , df['price'] , Test_model='Model',fileName='model')\n",
    "val"
   ]
  },
  {
   "cell_type": "code",
   "execution_count": 55,
   "id": "97d9eff2",
   "metadata": {
    "ExecuteTime": {
     "end_time": "2021-10-18T13:51:36.656512Z",
     "start_time": "2021-10-18T13:51:36.639523Z"
    }
   },
   "outputs": [
    {
     "data": {
      "text/plain": [
       "180616.43835616432"
      ]
     },
     "execution_count": 55,
     "metadata": {},
     "output_type": "execute_result"
    }
   ],
   "source": [
    "val.intercept_"
   ]
  },
  {
   "cell_type": "code",
   "execution_count": null,
   "id": "f255a021",
   "metadata": {},
   "outputs": [],
   "source": []
  },
  {
   "cell_type": "code",
   "execution_count": null,
   "id": "2af6c0c5",
   "metadata": {},
   "outputs": [],
   "source": []
  }
 ],
 "metadata": {
  "kernelspec": {
   "display_name": "Python 3",
   "language": "python",
   "name": "python3"
  },
  "language_info": {
   "codemirror_mode": {
    "name": "ipython",
    "version": 3
   },
   "file_extension": ".py",
   "mimetype": "text/x-python",
   "name": "python",
   "nbconvert_exporter": "python",
   "pygments_lexer": "ipython3",
   "version": "3.8.8"
  },
  "varInspector": {
   "cols": {
    "lenName": 16,
    "lenType": 16,
    "lenVar": 40
   },
   "kernels_config": {
    "python": {
     "delete_cmd_postfix": "",
     "delete_cmd_prefix": "del ",
     "library": "var_list.py",
     "varRefreshCmd": "print(var_dic_list())"
    },
    "r": {
     "delete_cmd_postfix": ") ",
     "delete_cmd_prefix": "rm(",
     "library": "var_list.r",
     "varRefreshCmd": "cat(var_dic_list()) "
    }
   },
   "types_to_exclude": [
    "module",
    "function",
    "builtin_function_or_method",
    "instance",
    "_Feature"
   ],
   "window_display": false
  }
 },
 "nbformat": 4,
 "nbformat_minor": 5
}
