{
 "cells": [
  {
   "cell_type": "markdown",
   "id": "e605ae1f",
   "metadata": {},
   "source": [
    "## first task in session 6 \n",
    "**create class**"
   ]
  },
  {
   "cell_type": "code",
   "execution_count": 23,
   "id": "4da2a26c",
   "metadata": {
    "ExecuteTime": {
     "end_time": "2021-08-09T12:38:47.342484Z",
     "start_time": "2021-08-09T12:38:47.315500Z"
    }
   },
   "outputs": [],
   "source": [
    "class Car:\n",
    "    def __init__(self):\n",
    "        self.name = input(\"enter car name: \")\n",
    "        self.type = input(\"enter car type: \")\n",
    "        self.color = input(\"enter car color: \")\n",
    "        self.motor = input(\"enter car motor: \")    #electric or gas or solar\n",
    "        \n",
    "    def setYearOfMade(self):\n",
    "        self.YearOFMade = input(\"enter car year of made: \")\n",
    "    \n",
    "    def setColor(self,color):\n",
    "        self.color = color"
   ]
  },
  {
   "cell_type": "code",
   "execution_count": 18,
   "id": "bb486cbf",
   "metadata": {
    "ExecuteTime": {
     "end_time": "2021-08-09T12:35:39.670209Z",
     "start_time": "2021-08-09T12:35:39.646221Z"
    }
   },
   "outputs": [],
   "source": [
    "data = []\n",
    "def cars():\n",
    "    obj = int(input(\"enter how many cars you need: \"))\n",
    "    for i in range(obj):\n",
    "        newCar = Car()\n",
    "        data.append(newCar)"
   ]
  },
  {
   "cell_type": "code",
   "execution_count": 15,
   "id": "ae3342b4",
   "metadata": {
    "ExecuteTime": {
     "end_time": "2021-08-09T12:29:33.815718Z",
     "start_time": "2021-08-09T12:29:24.991262Z"
    }
   },
   "outputs": [
    {
     "name": "stdout",
     "output_type": "stream",
     "text": [
      "enter how many cars you need: 2\n",
      "enter car name: pete\n",
      "enter car type: fafd\n",
      "enter car color: dsfsdf\n",
      "enter car motor: sdf\n",
      "enter car name: sdfsdf\n",
      "enter car type: ssdf\n",
      "enter car color: ssdfs\n",
      "enter car motor: ssdf\n"
     ]
    }
   ],
   "source": [
    "cars()"
   ]
  },
  {
   "cell_type": "code",
   "execution_count": 16,
   "id": "e86ec35f",
   "metadata": {
    "ExecuteTime": {
     "end_time": "2021-08-09T12:29:35.833130Z",
     "start_time": "2021-08-09T12:29:35.812145Z"
    }
   },
   "outputs": [
    {
     "name": "stdout",
     "output_type": "stream",
     "text": [
      "pete\n",
      "fafd\n",
      "sdf\n",
      "dsfsdf\n",
      "sdfsdf\n",
      "ssdf\n",
      "ssdf\n",
      "ssdfs\n"
     ]
    }
   ],
   "source": [
    "for i in data:\n",
    "    print(i.name)\n",
    "    print(i.type)\n",
    "    print(i.motor)\n",
    "    print(i.color)"
   ]
  },
  {
   "cell_type": "code",
   "execution_count": 24,
   "id": "6683fd5a",
   "metadata": {
    "ExecuteTime": {
     "end_time": "2021-08-09T12:39:00.437752Z",
     "start_time": "2021-08-09T12:38:50.719167Z"
    }
   },
   "outputs": [
    {
     "name": "stdout",
     "output_type": "stream",
     "text": [
      "enter car name: test\n",
      "enter car type: test\n",
      "enter car color: red\n",
      "enter car motor: test\n"
     ]
    }
   ],
   "source": [
    "toyota = Car()"
   ]
  },
  {
   "cell_type": "code",
   "execution_count": 28,
   "id": "c1f9ac5d",
   "metadata": {
    "ExecuteTime": {
     "end_time": "2021-08-09T12:39:11.072119Z",
     "start_time": "2021-08-09T12:39:11.041137Z"
    }
   },
   "outputs": [
    {
     "data": {
      "text/plain": [
       "'green'"
      ]
     },
     "execution_count": 28,
     "metadata": {},
     "output_type": "execute_result"
    }
   ],
   "source": [
    "toyota.color"
   ]
  },
  {
   "cell_type": "code",
   "execution_count": 27,
   "id": "7449ef1b",
   "metadata": {
    "ExecuteTime": {
     "end_time": "2021-08-09T12:39:09.234368Z",
     "start_time": "2021-08-09T12:39:09.219376Z"
    }
   },
   "outputs": [],
   "source": [
    "toyota.setColor(\"green\")"
   ]
  },
  {
   "cell_type": "markdown",
   "id": "4545407b",
   "metadata": {},
   "source": [
    "## Task 2 implmentation composition\n"
   ]
  },
  {
   "cell_type": "code",
   "execution_count": 31,
   "id": "acf3dec4",
   "metadata": {
    "ExecuteTime": {
     "end_time": "2021-08-09T13:16:06.739241Z",
     "start_time": "2021-08-09T13:16:06.694383Z"
    }
   },
   "outputs": [],
   "source": [
    "class A:\n",
    "    def __init__(self):\n",
    "        \n",
    "        self.firstClass = print(\"test 1 from class A\")\n",
    "        \n",
    "        \n",
    "    def sayHey(self):\n",
    "        print(\"say hey from class A\")"
   ]
  },
  {
   "cell_type": "code",
   "execution_count": 33,
   "id": "57601db5",
   "metadata": {
    "ExecuteTime": {
     "end_time": "2021-08-09T13:16:23.377203Z",
     "start_time": "2021-08-09T13:16:23.350219Z"
    }
   },
   "outputs": [
    {
     "name": "stdout",
     "output_type": "stream",
     "text": [
      "test 1 from class A\n",
      "say hey from class A\n"
     ]
    }
   ],
   "source": [
    "test1 = A()\n",
    "test1.sayHey()"
   ]
  },
  {
   "cell_type": "code",
   "execution_count": 38,
   "id": "f6828448",
   "metadata": {
    "ExecuteTime": {
     "end_time": "2021-08-09T13:18:35.570672Z",
     "start_time": "2021-08-09T13:18:35.544661Z"
    }
   },
   "outputs": [],
   "source": [
    "class BComposition:\n",
    "    \n",
    "    def __init__(self):\n",
    "        \n",
    "        self.obj1 = A()\n",
    "        \n",
    "        self.obj1\n",
    "        \n",
    "    def sayHey2(self):\n",
    "        print(\"hey 2 from class B compsition\")\n",
    "        self.obj1.sayHey()"
   ]
  },
  {
   "cell_type": "code",
   "execution_count": 41,
   "id": "2bc0ffc6",
   "metadata": {
    "ExecuteTime": {
     "end_time": "2021-08-09T13:19:04.643733Z",
     "start_time": "2021-08-09T13:19:04.623753Z"
    }
   },
   "outputs": [
    {
     "name": "stdout",
     "output_type": "stream",
     "text": [
      "test 1 from class A\n",
      "say hey from class A\n",
      "test 1 from class A\n",
      "hey 2 from class B compsition\n",
      "say hey from class A\n"
     ]
    }
   ],
   "source": [
    "test1 = A()\n",
    "test1.sayHey()\n",
    "test2 = BComposition()\n",
    "test2.sayHey2()"
   ]
  },
  {
   "cell_type": "code",
   "execution_count": null,
   "id": "fc803359",
   "metadata": {},
   "outputs": [],
   "source": []
  }
 ],
 "metadata": {
  "kernelspec": {
   "display_name": "Python 3",
   "language": "python",
   "name": "python3"
  },
  "language_info": {
   "codemirror_mode": {
    "name": "ipython",
    "version": 3
   },
   "file_extension": ".py",
   "mimetype": "text/x-python",
   "name": "python",
   "nbconvert_exporter": "python",
   "pygments_lexer": "ipython3",
   "version": "3.8.8"
  }
 },
 "nbformat": 4,
 "nbformat_minor": 5
}
